{
  "nbformat": 4,
  "nbformat_minor": 0,
  "metadata": {
    "colab": {
      "provenance": []
    },
    "kernelspec": {
      "name": "python3",
      "display_name": "Python 3"
    },
    "language_info": {
      "name": "python"
    }
  },
  "cells": [
    {
      "cell_type": "markdown",
      "source": [
        "**Label Encoding** is a process where categorical data (such as color, city, fruit, etc.) is converted into numbers. Machine learning models can only work with numbers, so this method is used to convert categorical data into numeric form.\n",
        "\n",
        "**Advantages:**\n",
        "Simple and Fast: It is effective when the data is very simple and there is no need to compare or understand any inherent relationship between the categorical values.\n",
        "\n",
        "**Limitations:**\n",
        "Ordinal Relationship Can Be Created: Sometimes, the model may incorrectly interpret that there is an ordinal (ordered) relationship between the numbers 0, 1, and 2, such as \"Apple\" < \"Banana\" < \"Cherry.\""
      ],
      "metadata": {
        "id": "UFgz19deslsV"
      }
    },
    {
      "cell_type": "code",
      "execution_count": 7,
      "metadata": {
        "colab": {
          "base_uri": "https://localhost:8080/"
        },
        "id": "Lw_EHEP7rlbL",
        "outputId": "d0012abc-df13-447f-80f3-7224355877a1"
      },
      "outputs": [
        {
          "output_type": "stream",
          "name": "stdout",
          "text": [
            "Label Encoded: [2 1 0]\n"
          ]
        }
      ],
      "source": [
        "from sklearn.preprocessing import LabelEncoder, OneHotEncoder\n",
        "\n",
        "# Label Encoding\n",
        "label_encoder = LabelEncoder()\n",
        "colors = [\"Red\", \"Green\", \"Blue\"]\n",
        "encoded_colors = label_encoder.fit_transform(colors)\n",
        "print(\"Label Encoded:\", encoded_colors)\n",
        "\n",
        "\n"
      ]
    },
    {
      "cell_type": "markdown",
      "source": [
        "**One-Hot Encoding** is the process of converting categorical data into a numerical format where each category is represented by a separate binary column. In this method, a binary value (0 or 1) is assigned to each column, where 1 indicates the presence of that category and 0 indicates its absence. This process ensures that no ordinal relationship is introduced between the categories.\n",
        "\n",
        "**Advantages:**\n",
        "No Ordinal Relationship: One-Hot Encoding prevents any unwanted ordinal relationships between categories. Each category is treated as independent.\n",
        "Model Compatibility: Many machine learning algorithms, such as decision trees, and neural networks, prefer One-Hot Encoding as it makes the data more interpretable.\n",
        "\n",
        "**Limitations:**\n",
        "Increased Dimensionality: One-Hot Encoding can lead to high dimensionality, especially if the categorical feature has many unique values. This can make the model more complex and slower to train.\n",
        "Sparsity: The resulting matrix may be sparse (having many zeros), which can lead to inefficiencies in storage and computation for large datasets."
      ],
      "metadata": {
        "id": "4IpvQz4DvJk2"
      }
    },
    {
      "cell_type": "code",
      "source": [
        "# One-Hot Encoding\n",
        "import numpy as np\n",
        "one_hot_encoder = OneHotEncoder()\n",
        "encoded_colors_oh = one_hot_encoder.fit_transform(np.array(colors).reshape(-1, 1)).toarray()\n",
        "print(\"One-Hot Encoded:\\n\", encoded_colors_oh)"
      ],
      "metadata": {
        "colab": {
          "base_uri": "https://localhost:8080/"
        },
        "id": "ldSeCgXtsUSd",
        "outputId": "2ae40aa6-5bd9-402b-919f-ca22fb9527bd"
      },
      "execution_count": null,
      "outputs": [
        {
          "output_type": "stream",
          "name": "stdout",
          "text": [
            "One-Hot Encoded:\n",
            " [[0. 0. 1.]\n",
            " [0. 1. 0.]\n",
            " [1. 0. 0.]]\n"
          ]
        }
      ]
    },
    {
      "cell_type": "markdown",
      "source": [
        "**Decoding is** the process of converting numeric values (such as those obtained from Label Encoding) back into their original categorical form. This is the reverse of the encoding process.\n",
        "\n",
        "**Advantages:**\n",
        "Simple and Fast: It is effective when you need to interpret the machine learning model's output (which is in numeric form) back into its original categorical values.\n",
        "\n",
        "**Limitations:**\n",
        "Requires Knowledge of the Encoding: To decode correctly, you need to know the mapping between the numeric values and their original categorical values, which may not always be available or may lead to errors if the mapping changes."
      ],
      "metadata": {
        "id": "9km-i-Whrolz"
      }
    },
    {
      "cell_type": "code",
      "source": [
        "# Decoding\n",
        "decoded_color = label_encoder.inverse_transform([1])\n",
        "print(\"Decoded:\", decoded_color)"
      ],
      "metadata": {
        "colab": {
          "base_uri": "https://localhost:8080/"
        },
        "id": "qydnq8sGsKoe",
        "outputId": "883d2274-ff78-43a1-d867-5578210ed0b0"
      },
      "execution_count": null,
      "outputs": [
        {
          "output_type": "stream",
          "name": "stdout",
          "text": [
            "Decoded: ['Green']\n"
          ]
        }
      ]
    }
  ]
}